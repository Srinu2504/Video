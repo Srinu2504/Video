{
 "cells": [
  {
   "cell_type": "code",
   "execution_count": null,
   "metadata": {},
   "outputs": [],
   "source": [
    "import requests\n",
    "import pandas as pd"
   ]
  },
  {
   "cell_type": "code",
   "execution_count": null,
   "metadata": {},
   "outputs": [],
   "source": [
    "import requests\n",
    "import pandas as pd\n",
    "\n",
    "BASE_URL = \"https://api.socialverseapp.com\"\n",
    "HEADERS = {\n",
    "    \"Flic-Token\": \"flic_6e2d8d25dc29a4ddd382c2383a903cf4a688d1a117f6eb43b35a1e7fadbb84b8\"\n",
    "}\n",
    "\n",
    "def fetch_data(endpoint, headers, params):\n",
    "    data = []\n",
    "    while True:\n",
    "        # Make the API request\n",
    "        response = requests.get(endpoint, headers=headers, params=params)\n",
    "        \n",
    "        # Check for a successful response\n",
    "        if response.status_code != 200:\n",
    "            print(f\"Error: {response.status_code}\")\n",
    "            break\n",
    "        \n",
    "        # Parse the JSON response\n",
    "        json_data = response.json()\n",
    "        \n",
    "        # Print the response to debug the structure\n",
    "        print(f\"Response JSON: {json_data}\")\n",
    "        \n",
    "        # Check if 'results' key exists and process accordingly\n",
    "        if \"results\" in json_data:\n",
    "            data.extend(json_data[\"results\"])\n",
    "        else:\n",
    "            print(\"The 'results' key is not found in the response. Available keys:\", json_data.keys())\n",
    "            break\n",
    "        \n",
    "        # Handle pagination\n",
    "        if not json_data.get(\"next\"):  # No next page\n",
    "            break\n",
    "        \n",
    "        # Increment the page number for the next request\n",
    "        params[\"page\"] += 1\n",
    "    \n",
    "    return data\n",
    "\n"
   ]
  },
  {
   "cell_type": "code",
   "execution_count": null,
   "metadata": {},
   "outputs": [],
   "source": [
    "# Fetch viewed posts\n",
    "params = {\n",
    "    \"page\": 1,\n",
    "    \"page_size\": 1000,\n",
    "    \"resonance_algorithm\": \"resonance_algorithm_cjsvervb7dbhss8bdrj89s44jfjdbsjd0xnjkbvuire8zcjwerui3njfbvsujc5if\"\n",
    "}\n",
    "\n",
    "# Call the function to fetch viewed posts\n",
    "viewed_posts = fetch_data(f\"{BASE_URL}/posts/view\", HEADERS, params)\n",
    "\n",
    "# Convert the data to a DataFrame and save it to a CSV file\n",
    "viewed_posts_df = pd.DataFrame(viewed_posts)\n",
    "viewed_posts_df.to_csv(\"viewed_posts.csv\", index=False)\n",
    "print(\"Viewed posts saved to viewed_posts.csv\")\n"
   ]
  },
  {
   "cell_type": "code",
   "execution_count": null,
   "metadata": {},
   "outputs": [],
   "source": [
    "viewed_posts_df.head()"
   ]
  },
  {
   "cell_type": "code",
   "execution_count": null,
   "metadata": {},
   "outputs": [],
   "source": [
    "# Fetch liked posts\n",
    "liked_posts = fetch_data(f\"{BASE_URL}/posts/like\", HEADERS, params)\n",
    "liked_posts_df = pd.DataFrame(liked_posts)\n",
    "liked_posts_df.to_csv(\"liked_posts.csv\", index=False)\n",
    "print(\"Liked posts saved to liked_posts.csv\")\n"
   ]
  },
  {
   "cell_type": "code",
   "execution_count": 65,
   "metadata": {},
   "outputs": [
    {
     "name": "stdout",
     "output_type": "stream",
     "text": [
      " * Serving Flask app '__main__'\n",
      " * Debug mode: on\n"
     ]
    },
    {
     "name": "stderr",
     "output_type": "stream",
     "text": [
      "WARNING: This is a development server. Do not use it in a production deployment. Use a production WSGI server instead.\n",
      " * Running on http://127.0.0.1:5000\n",
      "Press CTRL+C to quit\n",
      " * Restarting with watchdog (windowsapi)\n"
     ]
    },
    {
     "ename": "SystemExit",
     "evalue": "1",
     "output_type": "error",
     "traceback": [
      "An exception has occurred, use %tb to see the full traceback.\n",
      "\u001b[1;31mSystemExit\u001b[0m\u001b[1;31m:\u001b[0m 1\n"
     ]
    }
   ],
   "source": [
    "from flask import Flask, request, jsonify\n",
    "import pandas as pd\n",
    "import numpy as np\n",
    "import requests\n",
    "from sklearn.metrics.pairwise import cosine_similarity\n",
    "from sklearn.feature_extraction.text import TfidfVectorizer\n",
    "\n",
    "# Initialize Flask app\n",
    "app = Flask(__name__)\n",
    "\n",
    "# API Token for Authorization\n",
    "FLIC_TOKEN = \"flic_6e2d8d25dc29a4ddd382c2383a903cf4a688d1a117f6eb43b35a1e7fadbb84b8\"\n",
    "HEADERS = {\"Flic-Token\": FLIC_TOKEN}\n",
    "\n",
    "# Base URL for APIs\n",
    "BASE_URL = \"https://api.socialverseapp.com/\"\n",
    "\n",
    "# Utility function to fetch data from API\n",
    "def fetch_data(endpoint):\n",
    "    try:\n",
    "        response = requests.get(BASE_URL + endpoint, headers=HEADERS)\n",
    "        response.raise_for_status()\n",
    "        return response.json()[\"data\"]\n",
    "    except Exception as e:\n",
    "        print(f\"Error fetching data: {e}\")\n",
    "        return []\n",
    "\n",
    "# Fetch user interactions and video metadata\n",
    "def get_user_data(username):\n",
    "    viewed_posts = fetch_data(f\"posts/view?username={username}&page_size=1000\")\n",
    "    liked_posts = fetch_data(f\"posts/like?username={username}&page_size=1000\")\n",
    "    inspired_posts = fetch_data(f\"posts/inspire?username={username}&page_size=1000\")\n",
    "    rated_posts = fetch_data(f\"posts/rating?username={username}&page_size=1000\")\n",
    "    return viewed_posts, liked_posts, inspired_posts, rated_posts\n",
    "\n",
    "def get_all_posts():\n",
    "    return fetch_data(\"posts/summary/get?page_size=1000\")\n",
    "\n",
    "# Recommendation algorithm\n",
    "def recommend_videos(username, category_id=None, mood=None):\n",
    "    # Fetch data\n",
    "    all_posts = pd.DataFrame(get_all_posts())\n",
    "    viewed, liked, inspired, rated = map(pd.DataFrame, get_user_data(username))\n",
    "    \n",
    "    # Preprocess data\n",
    "    all_posts.fillna(\"\", inplace=True)\n",
    "    user_history = pd.concat([viewed, liked, inspired, rated], ignore_index=True)\n",
    "    user_history.drop_duplicates(subset=\"post_id\", inplace=True)\n",
    "    \n",
    "    # Filter by category if provided\n",
    "    if category_id:\n",
    "        all_posts = all_posts[all_posts[\"category_id\"] == category_id]\n",
    "    \n",
    "    # Content-based filtering using TF-IDF\n",
    "    tfidf = TfidfVectorizer(stop_words=\"english\")\n",
    "    tfidf_matrix = tfidf.fit_transform(all_posts[\"description\"])\n",
    "    user_profile = tfidf.transform(user_history[\"description\"].sum())\n",
    "    cosine_sim = cosine_similarity(user_profile, tfidf_matrix)\n",
    "    content_recommendations = all_posts.iloc[cosine_sim.argsort()[0, -10:][::-1]]\n",
    "    \n",
    "    # Collaborative filtering using user-item matrix\n",
    "    if not user_history.empty:\n",
    "        user_item_matrix = pd.pivot_table(user_history, index=\"username\", columns=\"post_id\", values=\"interaction_score\", fill_value=0)\n",
    "        user_similarity = cosine_similarity(user_item_matrix)\n",
    "        collaborative_recommendations = user_item_matrix.iloc[user_similarity.argsort()[0, -10:][::-1]]\n",
    "    else:\n",
    "        collaborative_recommendations = pd.DataFrame()\n",
    "    \n",
    "    # Combine recommendations\n",
    "    final_recommendations = pd.concat([content_recommendations, collaborative_recommendations]).drop_duplicates().head(10)\n",
    "    if mood:\n",
    "        final_recommendations = final_recommendations[final_recommendations[\"tags\"].str.contains(mood, case=False, na=False)]\n",
    "    \n",
    "    return final_recommendations.to_dict(orient=\"records\")\n",
    "\n",
    "# API endpoint for recommendations\n",
    "@app.route('/feed', methods=['GET'])\n",
    "def feed():\n",
    "    username = request.args.get(\"username\")\n",
    "    category_id = request.args.get(\"category_id\")\n",
    "    mood = request.args.get(\"mood\")\n",
    "    \n",
    "    if not username:\n",
    "        return jsonify({\"error\": \"Username is required\"}), 400\n",
    "    \n",
    "    recommendations = recommend_videos(username, category_id, mood)\n",
    "    return jsonify(recommendations)\n",
    "\n",
    "# Main entry point\n",
    "if __name__ == \"__main__\":\n",
    "    app.run(debug=True, port=5000)\n"
   ]
  },
  {
   "cell_type": "code",
   "execution_count": null,
   "metadata": {},
   "outputs": [],
   "source": []
  }
 ],
 "metadata": {
  "kernelspec": {
   "display_name": "Python 3",
   "language": "python",
   "name": "python3"
  },
  "language_info": {
   "codemirror_mode": {
    "name": "ipython",
    "version": 3
   },
   "file_extension": ".py",
   "mimetype": "text/x-python",
   "name": "python",
   "nbconvert_exporter": "python",
   "pygments_lexer": "ipython3",
   "version": "3.11.9"
  }
 },
 "nbformat": 4,
 "nbformat_minor": 2
}
